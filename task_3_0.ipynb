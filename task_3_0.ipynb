{
 "cells": [
  {
   "cell_type": "code",
   "execution_count": 1,
   "metadata": {
    "collapsed": true
   },
   "outputs": [],
   "source": [
    "import numpy as np\n",
    "import pandas as pd"
   ]
  },
  {
   "cell_type": "code",
   "execution_count": 2,
   "metadata": {},
   "outputs": [
    {
     "name": "stdout",
     "output_type": "stream",
     "text": [
      "('MS-b1-inventory.csv', 'MS-b1-sell.csv', 'MS-b1-supply.csv')\n"
     ]
    }
   ],
   "source": [
    "def create_filenames(state, number):\n",
    "    \n",
    "    str_inv = \"MS-\" + state + number + \"-inventory.csv\"\n",
    "    str_sell = \"MS-\" + state + number + \"-sell.csv\"\n",
    "    str_spl = \"MS-\" + state + number + \"-supply.csv\"\n",
    "    return str_inv, str_sell, str_spl\n",
    "\n",
    "#print (create_filenames('b','1'))\n"
   ]
  },
  {
   "cell_type": "code",
   "execution_count": null,
   "metadata": {
    "collapsed": true
   },
   "outputs": [],
   "source": [
    "def sell_upgrade(sell, state):\n",
    "    \n",
    "    sell_upg = pd.DataFrame(columns=['date', 'apple', 'pen'])\n",
    "    \n",
    "    if state == 'b' or state == 'm':\n",
    "        max = 2\n",
    "    elif state == 's':\n",
    "        max = 5\n",
    "        \n",
    "    shop = 0\n",
    "    \n",
    "    while shop < max:\n",
    "        j = 0\n",
    "        k = 0\n",
    "        l = 0\n",
    "        length = len(sell[shop]) - 1\n",
    "    \n",
    "        for i in range(length):\n",
    "            if sell[shop]['sku_num'][i][6] == 'a':\n",
    "                j = j + 1\n",
    "            elif sell[shop]['sku_num'][i][6] == 'p':\n",
    "                l = l + 1\n",
    "            if sell[shop]['date'][i] != sell[shop]['date'][i+1]:\n",
    "                sell_upg.set_value(k, 'apple', j)\n",
    "                b1_sell_upgrade.set_value(k, 'pen', l)\n",
    "                b1_sell_upgrade.set_value(k, 'date', b1_sell['date'][i])\n",
    "                k = k + 1\n",
    "                j = 0\n",
    "                l = 0\n",
    "        \n",
    "        k = k + 1\n",
    "        if b1_sell['sku_num'][length][6] == 'a':\n",
    "            b1_sell_upgrade.set_value(k, 'apple', j + 1)\n",
    "        if b1_sell['sku_num'][length][6] == 'p':\n",
    "            b1_sell_upgrade.set_value(k, 'pen', l + 1)\n",
    "            \n",
    "        shop = shop + 1\n",
    "        \n",
    "    b1_sell_upgrade.head(n=5)"
   ]
  },
  {
   "cell_type": "code",
   "execution_count": null,
   "metadata": {
    "collapsed": true
   },
   "outputs": [],
   "source": [
    "def inventory_every_day(state):\n",
    "    \n",
    "    if state == 'b' or state == 'm':\n",
    "        max = 2\n",
    "    elif state == 's':\n",
    "        max = 5\n",
    "        \n",
    "    i = 0\n",
    "    while i < max:\n",
    "        fn = \"input/\" + create_filenames(state, i+1)\n",
    "        sell[i] = pd.csv(fn[1])\n",
    "        \n",
    "    "
   ]
  }
 ],
 "metadata": {
  "kernelspec": {
   "display_name": "Python 3",
   "language": "python",
   "name": "python3"
  },
  "language_info": {
   "codemirror_mode": {
    "name": "ipython",
    "version": 3
   },
   "file_extension": ".py",
   "mimetype": "text/x-python",
   "name": "python",
   "nbconvert_exporter": "python",
   "pygments_lexer": "ipython3",
   "version": "3.6.3"
  }
 },
 "nbformat": 4,
 "nbformat_minor": 2
}
